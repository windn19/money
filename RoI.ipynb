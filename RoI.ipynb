{
  "nbformat": 4,
  "nbformat_minor": 0,
  "metadata": {
    "colab": {
      "name": "Untitled20.ipynb",
      "provenance": [],
      "authorship_tag": "ABX9TyP4++lEeDeyySHVkZgOI963",
      "include_colab_link": true
    },
    "kernelspec": {
      "name": "python3",
      "display_name": "Python 3"
    },
    "language_info": {
      "name": "python"
    }
  },
  "cells": [
    {
      "cell_type": "markdown",
      "metadata": {
        "id": "view-in-github",
        "colab_type": "text"
      },
      "source": [
        "<a href=\"https://colab.research.google.com/github/windn19/money/blob/main/RoI.ipynb\" target=\"_parent\"><img src=\"https://colab.research.google.com/assets/colab-badge.svg\" alt=\"Open In Colab\"/></a>"
      ]
    },
    {
      "cell_type": "code",
      "metadata": {
        "colab": {
          "base_uri": "https://localhost:8080/",
          "height": 1000
        },
        "id": "tgGd6YnFDmSU",
        "outputId": "7d1608f4-97be-4489-8460-3edab30e79e7"
      },
      "source": [
        "!pip install tensorflow==1.15"
      ],
      "execution_count": 3,
      "outputs": [
        {
          "output_type": "stream",
          "text": [
            "Collecting tensorflow==1.15\n",
            "\u001b[?25l  Downloading https://files.pythonhosted.org/packages/92/2b/e3af15221da9ff323521565fa3324b0d7c7c5b1d7a8ca66984c8d59cb0ce/tensorflow-1.15.0-cp37-cp37m-manylinux2010_x86_64.whl (412.3MB)\n",
            "\u001b[K     |████████████████████████████████| 412.3MB 36kB/s \n",
            "\u001b[?25hCollecting keras-applications>=1.0.8\n",
            "\u001b[?25l  Downloading https://files.pythonhosted.org/packages/71/e3/19762fdfc62877ae9102edf6342d71b28fbfd9dea3d2f96a882ce099b03f/Keras_Applications-1.0.8-py3-none-any.whl (50kB)\n",
            "\u001b[K     |████████████████████████████████| 51kB 5.4MB/s \n",
            "\u001b[?25hRequirement already satisfied: protobuf>=3.6.1 in /usr/local/lib/python3.7/dist-packages (from tensorflow==1.15) (3.12.4)\n",
            "Collecting tensorflow-estimator==1.15.1\n",
            "\u001b[?25l  Downloading https://files.pythonhosted.org/packages/de/62/2ee9cd74c9fa2fa450877847ba560b260f5d0fb70ee0595203082dafcc9d/tensorflow_estimator-1.15.1-py2.py3-none-any.whl (503kB)\n",
            "\u001b[K     |████████████████████████████████| 512kB 41.9MB/s \n",
            "\u001b[?25hCollecting gast==0.2.2\n",
            "  Downloading https://files.pythonhosted.org/packages/4e/35/11749bf99b2d4e3cceb4d55ca22590b0d7c2c62b9de38ac4a4a7f4687421/gast-0.2.2.tar.gz\n",
            "Requirement already satisfied: keras-preprocessing>=1.0.5 in /usr/local/lib/python3.7/dist-packages (from tensorflow==1.15) (1.1.2)\n",
            "Requirement already satisfied: google-pasta>=0.1.6 in /usr/local/lib/python3.7/dist-packages (from tensorflow==1.15) (0.2.0)\n",
            "Requirement already satisfied: numpy<2.0,>=1.16.0 in /usr/local/lib/python3.7/dist-packages (from tensorflow==1.15) (1.19.5)\n",
            "Requirement already satisfied: six>=1.10.0 in /usr/local/lib/python3.7/dist-packages (from tensorflow==1.15) (1.15.0)\n",
            "Requirement already satisfied: opt-einsum>=2.3.2 in /usr/local/lib/python3.7/dist-packages (from tensorflow==1.15) (3.3.0)\n",
            "Requirement already satisfied: wheel>=0.26 in /usr/local/lib/python3.7/dist-packages (from tensorflow==1.15) (0.36.2)\n",
            "Requirement already satisfied: grpcio>=1.8.6 in /usr/local/lib/python3.7/dist-packages (from tensorflow==1.15) (1.32.0)\n",
            "Collecting tensorboard<1.16.0,>=1.15.0\n",
            "\u001b[?25l  Downloading https://files.pythonhosted.org/packages/1e/e9/d3d747a97f7188f48aa5eda486907f3b345cd409f0a0850468ba867db246/tensorboard-1.15.0-py3-none-any.whl (3.8MB)\n",
            "\u001b[K     |████████████████████████████████| 3.8MB 40.0MB/s \n",
            "\u001b[?25hRequirement already satisfied: astor>=0.6.0 in /usr/local/lib/python3.7/dist-packages (from tensorflow==1.15) (0.8.1)\n",
            "Requirement already satisfied: wrapt>=1.11.1 in /usr/local/lib/python3.7/dist-packages (from tensorflow==1.15) (1.12.1)\n",
            "Requirement already satisfied: absl-py>=0.7.0 in /usr/local/lib/python3.7/dist-packages (from tensorflow==1.15) (0.12.0)\n",
            "Requirement already satisfied: termcolor>=1.1.0 in /usr/local/lib/python3.7/dist-packages (from tensorflow==1.15) (1.1.0)\n",
            "Requirement already satisfied: h5py in /usr/local/lib/python3.7/dist-packages (from keras-applications>=1.0.8->tensorflow==1.15) (2.10.0)\n",
            "Requirement already satisfied: setuptools in /usr/local/lib/python3.7/dist-packages (from protobuf>=3.6.1->tensorflow==1.15) (54.2.0)\n",
            "Requirement already satisfied: werkzeug>=0.11.15 in /usr/local/lib/python3.7/dist-packages (from tensorboard<1.16.0,>=1.15.0->tensorflow==1.15) (1.0.1)\n",
            "Requirement already satisfied: markdown>=2.6.8 in /usr/local/lib/python3.7/dist-packages (from tensorboard<1.16.0,>=1.15.0->tensorflow==1.15) (3.3.4)\n",
            "Requirement already satisfied: importlib-metadata; python_version < \"3.8\" in /usr/local/lib/python3.7/dist-packages (from markdown>=2.6.8->tensorboard<1.16.0,>=1.15.0->tensorflow==1.15) (3.10.1)\n",
            "Requirement already satisfied: zipp>=0.5 in /usr/local/lib/python3.7/dist-packages (from importlib-metadata; python_version < \"3.8\"->markdown>=2.6.8->tensorboard<1.16.0,>=1.15.0->tensorflow==1.15) (3.4.1)\n",
            "Requirement already satisfied: typing-extensions>=3.6.4; python_version < \"3.8\" in /usr/local/lib/python3.7/dist-packages (from importlib-metadata; python_version < \"3.8\"->markdown>=2.6.8->tensorboard<1.16.0,>=1.15.0->tensorflow==1.15) (3.7.4.3)\n",
            "Building wheels for collected packages: gast\n",
            "  Building wheel for gast (setup.py) ... \u001b[?25l\u001b[?25hdone\n",
            "  Created wheel for gast: filename=gast-0.2.2-cp37-none-any.whl size=7540 sha256=b071e019dbf5bb20f07195ba40390336818c17525f34bfdc38c0a96461f13ed5\n",
            "  Stored in directory: /root/.cache/pip/wheels/5c/2e/7e/a1d4d4fcebe6c381f378ce7743a3ced3699feb89bcfbdadadd\n",
            "Successfully built gast\n",
            "\u001b[31mERROR: tensorflow-probability 0.12.1 has requirement gast>=0.3.2, but you'll have gast 0.2.2 which is incompatible.\u001b[0m\n",
            "Installing collected packages: keras-applications, tensorflow-estimator, gast, tensorboard, tensorflow\n",
            "  Found existing installation: tensorflow-estimator 2.4.0\n",
            "    Uninstalling tensorflow-estimator-2.4.0:\n",
            "      Successfully uninstalled tensorflow-estimator-2.4.0\n",
            "  Found existing installation: gast 0.3.3\n",
            "    Uninstalling gast-0.3.3:\n",
            "      Successfully uninstalled gast-0.3.3\n",
            "  Found existing installation: tensorboard 2.4.1\n",
            "    Uninstalling tensorboard-2.4.1:\n",
            "      Successfully uninstalled tensorboard-2.4.1\n",
            "  Found existing installation: tensorflow 2.4.1\n",
            "    Uninstalling tensorflow-2.4.1:\n",
            "      Successfully uninstalled tensorflow-2.4.1\n",
            "Successfully installed gast-0.2.2 keras-applications-1.0.8 tensorboard-1.15.0 tensorflow-1.15.0 tensorflow-estimator-1.15.1\n"
          ],
          "name": "stdout"
        },
        {
          "output_type": "display_data",
          "data": {
            "application/vnd.colab-display-data+json": {
              "pip_warning": {
                "packages": [
                  "gast",
                  "tensorboard",
                  "tensorflow"
                ]
              }
            }
          },
          "metadata": {
            "tags": []
          }
        }
      ]
    },
    {
      "cell_type": "code",
      "metadata": {
        "id": "HWHwB3TNCeMd"
      },
      "source": [
        "import tensorflow as tf\n",
        "from tensorflow.keras.layers import Layer\n",
        "\n",
        "class ROIPoolingLayer(Layer):\n",
        "    \"\"\" Implements Region Of Interest Max Pooling \n",
        "        for channel-first images and relative bounding box coordinates\n",
        "\n",
        "        # Constructor parameters\n",
        "            pooled_height, pooled_width (int) -- \n",
        "              specify height and width of layer outputs\n",
        "\n",
        "        Shape of inputs\n",
        "            [(batch_size, pooled_height, pooled_width, n_channels),\n",
        "             (batch_size, num_rois, 4)]\n",
        "\n",
        "        Shape of output\n",
        "            (batch_size, num_rois, pooled_height, pooled_width, n_channels)\n",
        "\n",
        "    \"\"\"\n",
        "    def __init__(self, pooled_height, pooled_width, **kwargs):\n",
        "        self.pooled_height = pooled_height\n",
        "        self.pooled_width = pooled_width\n",
        "\n",
        "        super(ROIPoolingLayer, self).__init__(**kwargs)\n",
        "\n",
        "    def compute_output_shape(self, input_shape):\n",
        "        \"\"\" Returns the shape of the ROI Layer output\n",
        "        \"\"\"\n",
        "        feature_map_shape, rois_shape = input_shape\n",
        "        assert feature_map_shape[0] == rois_shape[0]\n",
        "        batch_size = feature_map_shape[0]\n",
        "        n_rois = rois_shape[1]\n",
        "        n_channels = feature_map_shape[3]\n",
        "        return (batch_size, n_rois, self.pooled_height, \n",
        "                self.pooled_width, n_channels)\n",
        "\n",
        "    def call(self, x):\n",
        "        \"\"\" Maps the input tensor of the ROI layer to its output\n",
        "\n",
        "            # Parameters\n",
        "                x[0] -- Convolutional feature map tensor,\n",
        "                        shape (batch_size, pooled_height, pooled_width, n_channels)\n",
        "                x[1] -- Tensor of region of interests from candidate bounding boxes,\n",
        "                        shape (batch_size, num_rois, 4)\n",
        "                        Each region of interest is defined by four relative \n",
        "                        coordinates (x_min, y_min, x_max, y_max) between 0 and 1\n",
        "            # Output\n",
        "                pooled_areas -- Tensor with the pooled region of interest, shape\n",
        "                    (batch_size, num_rois, pooled_height, pooled_width, n_channels)\n",
        "        \"\"\"\n",
        "        def curried_pool_rois(x): \n",
        "          return ROIPoolingLayer._pool_rois(x[0], x[1], \n",
        "                                            self.pooled_height, \n",
        "                                            self.pooled_width)\n",
        "\n",
        "        pooled_areas = tf.map_fn(curried_pool_rois, x, dtype=tf.float32)\n",
        "\n",
        "        return pooled_areas\n",
        "\n",
        "    @staticmethod\n",
        "    def _pool_rois(feature_map, rois, pooled_height, pooled_width):\n",
        "        \"\"\" Applies ROI pooling for a single image and varios ROIs\n",
        "        \"\"\"\n",
        "        def curried_pool_roi(roi): \n",
        "          return ROIPoolingLayer._pool_roi(feature_map, roi, \n",
        "                                           pooled_height, pooled_width)\n",
        "\n",
        "        pooled_areas = tf.map_fn(curried_pool_roi, rois, dtype=tf.float32)\n",
        "        return pooled_areas\n",
        "\n",
        "    @staticmethod\n",
        "    def _pool_roi(feature_map, roi, pooled_height, pooled_width):\n",
        "        \"\"\" Applies ROI pooling to a single image and a single region of interest\n",
        "        \"\"\"\n",
        "\n",
        "        # Compute the region of interest        \n",
        "        feature_map_height = int(feature_map.shape[0])\n",
        "        feature_map_width  = int(feature_map.shape[1])\n",
        "\n",
        "        h_start = tf.cast(feature_map_height * roi[0], 'int32')\n",
        "        w_start = tf.cast(feature_map_width  * roi[1], 'int32')\n",
        "        h_end   = tf.cast(feature_map_height * roi[2], 'int32')\n",
        "        w_end   = tf.cast(feature_map_width  * roi[3], 'int32')\n",
        "\n",
        "        region = feature_map[h_start:h_end, w_start:w_end, :]\n",
        "\n",
        "        # Divide the region into non overlapping areas\n",
        "        region_height = h_end - h_start\n",
        "        region_width  = w_end - w_start\n",
        "        h_step = tf.cast( region_height / pooled_height, 'int32')\n",
        "        w_step = tf.cast( region_width  / pooled_width , 'int32')\n",
        "\n",
        "        areas = [[(\n",
        "                    i*h_step, \n",
        "                    j*w_step, \n",
        "                    (i+1)*h_step if i+1 < pooled_height else region_height, \n",
        "                    (j+1)*w_step if j+1 < pooled_width else region_width\n",
        "                   ) \n",
        "                   for j in range(pooled_width)] \n",
        "                  for i in range(pooled_height)]\n",
        "\n",
        "        # take the maximum of each area and stack the result\n",
        "        def pool_area(x): \n",
        "          return tf.math.reduce_max(region[x[0]:x[2], x[1]:x[3], :], axis=[0,1])\n",
        "\n",
        "        pooled_features = tf.stack([[pool_area(x) for x in row] for row in areas])\n",
        "        return pooled_features"
      ],
      "execution_count": 1,
      "outputs": []
    },
    {
      "cell_type": "code",
      "metadata": {
        "colab": {
          "base_uri": "https://localhost:8080/"
        },
        "id": "TWcHYDlYCr8j",
        "outputId": "6bffdb32-e2c9-490a-bf79-084682ffa109"
      },
      "source": [
        "import numpy as np# Define parameters\n",
        "batch_size = 1\n",
        "img_height = 200\n",
        "img_width = 100\n",
        "n_channels = 1\n",
        "n_rois = 2\n",
        "pooled_height = 3\n",
        "pooled_width = 7# Create feature map input\n",
        "feature_maps_shape = (batch_size, img_height, img_width, n_channels)\n",
        "print(feature_maps_shape)\n",
        "feature_maps_tf = tf.placeholder(tf.float32, shape=feature_maps_shape)\n",
        "print(feature_maps_tf)\n",
        "feature_maps_np = np.ones(feature_maps_tf.shape, dtype='float32')\n",
        "print(feature_maps_np.shape)\n",
        "feature_maps_np[0, img_height-1, img_width-3, 0] = 50\n",
        "print(f\"feature_maps_np.shape = {feature_maps_np.shape}\")# Create batch size\n",
        "roiss_tf = tf.placeholder(tf.float32, shape=(batch_size, n_rois, 4))\n",
        "print(roiss_tf)\n",
        "roiss_np = np.asarray([[[0.5,0.2,0.7,0.4], [0.0,0.0,1.0,1.0]]], dtype='float32')\n",
        "print(f\"roiss_np.shape = {roiss_np.shape}\")# Create layer\n",
        "roi_layer = ROIPoolingLayer(pooled_height, pooled_width)\n",
        "pooled_features = roi_layer([feature_maps_tf, roiss_tf])\n",
        "print(f\"output shape of layer call = {pooled_features.shape}\")# Run tensorflow session\n",
        "print(pooled_features)\n",
        "with tf.Session() as session:\n",
        "    result = session.run(pooled_features, \n",
        "                         feed_dict={feature_maps_tf:feature_maps_np,  \n",
        "                                    roiss_tf:roiss_np})\n",
        "\n",
        "print(f\"result.shape = {result.shape}\")\n",
        "print(f\"first  roi embedding=\\n{result[0,0,:,:,0]}\")\n",
        "print(f\"second roi embedding=\\n{result[0,1,:,:,0]}\")"
      ],
      "execution_count": 9,
      "outputs": [
        {
          "output_type": "stream",
          "text": [
            "(1, 200, 100, 1)\n",
            "Tensor(\"Placeholder_14:0\", shape=(1, 200, 100, 1), dtype=float32)\n",
            "(1, 200, 100, 1)\n",
            "feature_maps_np.shape = (1, 200, 100, 1)\n",
            "Tensor(\"Placeholder_15:0\", shape=(1, 2, 4), dtype=float32)\n",
            "roiss_np.shape = (1, 2, 4)\n",
            "output shape of layer call = (1, 2, 3, 7, 1)\n",
            "Tensor(\"roi_pooling_layer_7/map/TensorArrayStack/TensorArrayGatherV3:0\", shape=(1, 2, 3, 7, 1), dtype=float32)\n",
            "result.shape = (1, 2, 3, 7, 1)\n",
            "first  roi embedding=\n",
            "[[1. 1. 1. 1. 1. 1. 1.]\n",
            " [1. 1. 1. 1. 1. 1. 1.]\n",
            " [1. 1. 1. 1. 1. 1. 1.]]\n",
            "second roi embedding=\n",
            "[[ 1.  1.  1.  1.  1.  1.  1.]\n",
            " [ 1.  1.  1.  1.  1.  1.  1.]\n",
            " [ 1.  1.  1.  1.  1.  1. 50.]]\n"
          ],
          "name": "stdout"
        }
      ]
    },
    {
      "cell_type": "code",
      "metadata": {
        "id": "1soWH1ofEplC"
      },
      "source": [
        ""
      ],
      "execution_count": null,
      "outputs": []
    }
  ]
}